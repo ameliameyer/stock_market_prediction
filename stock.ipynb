{
 "cells": [
  {
   "cell_type": "markdown",
   "id": "devoted-status",
   "metadata": {},
   "source": [
    "# Stock Market Analysis"
   ]
  },
  {
   "cell_type": "markdown",
   "id": "located-science",
   "metadata": {},
   "source": [
    "Resources and project layout   \n",
    "Make list of thoughts and ideas/dataset  \n",
    "etc  "
   ]
  }
 ],
 "metadata": {
  "kernelspec": {
   "display_name": "",
   "name": ""
  },
  "language_info": {
   "name": ""
  }
 },
 "nbformat": 4,
 "nbformat_minor": 5
}
