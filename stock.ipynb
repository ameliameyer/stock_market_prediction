{
 "cells": [
  {
   "cell_type": "markdown",
   "id": "devoted-status",
   "metadata": {},
   "source": [
    "# Stock Market Analysis"
   ]
  },
  {
   "cell_type": "markdown",
   "id": "located-science",
   "metadata": {},
   "source": [
    "Resources and project layout   \n",
    "Make list of thoughts and ideas/dataset  \n",
    "etc  "
   ]
  },
  {
   "cell_type": "markdown",
   "id": "97c59da2",
   "metadata": {},
   "source": [
    "TODO:\n",
    "- Decide what ML library we want to use to use, sklearn is what I used and it worked well, but we can use another one.\n",
    "    - https://scikit-learn.org/stable/\n",
    "\n",
    "- How modular do you want to make the program? Do you want to take user input of a stock ticker and pull stock data so we can do any stock?\n",
    "\n",
    "- How far out do you want to predict the stock price? how accurate will it be 1 day out, one week out? Do you want the user to specify?\n",
    "\n",
    "- How do you want to plot the data, matplotlib?\n",
    "\n",
    "- Doing an inital search it looks like yfinance would be a good option to pull historical stock data to perform predictive analysis.\n",
    "    - https://pypi.org/project/yfinance/ - A good refrence for yfinance.\n"
   ]
  },
  {
   "cell_type": "markdown",
   "id": "f3fd17fc",
   "metadata": {},
   "source": []
  }
 ],
 "metadata": {
  "kernelspec": {
   "display_name": "",
   "name": ""
  },
  "language_info": {
   "name": ""
  }
 },
 "nbformat": 4,
 "nbformat_minor": 5
}
